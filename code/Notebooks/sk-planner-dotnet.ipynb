{
 "cells": [
  {
   "attachments": {},
   "cell_type": "markdown",
   "metadata": {},
   "source": [
    "A planner is a potent function that utilizes AI to combine registered plugins within the kernel and generate a plan to fulfill a user's request. This powerful concept empowers developers to create atomic functions, enabling them to construct complex workflows without explicit coding for each scenario. However, it requires caution as it can combine functions in unexpected ways. Adhering to responsible AI principles ensures fair, reliable, and secure usage. The planner is an extensible part of the Semantic Kernel, offering various options, and developers can create custom planners to suit specific needs. Language support is indicated in a table, encouraging contributions to enhance functionality.\n",
    "\n",
    "## Kernel Instansiation"
   ]
  },
  {
   "cell_type": "code",
   "execution_count": 29,
   "metadata": {
    "dotnet_interactive": {
     "language": "csharp"
    },
    "polyglot_notebook": {
     "kernelName": "csharp"
    }
   },
   "outputs": [
    {
     "data": {
      "text/html": [
       "<div><div></div><div></div><div><strong>Installed Packages</strong><ul><li><span>Microsoft.SemanticKernel, 0.17.230626.1-preview</span></li></ul></div></div>"
      ]
     },
     "metadata": {},
     "output_type": "display_data"
    }
   ],
   "source": [
    "#r \"nuget: Microsoft.SemanticKernel, 0.17.230626.1-preview\"\n",
    "\n",
    "#!import config/Settings.cs\n",
    "#!import config/Utils.cs\n",
    "\n",
    "using Microsoft.SemanticKernel;\n",
    "using Microsoft.SemanticKernel.Skills.Core;\n",
    "using Microsoft.SemanticKernel.Orchestration;\n",
    "using Microsoft.SemanticKernel.Planning;\n",
    "using Microsoft.SemanticKernel.Planning.Sequential;\n",
    "using System;\n",
    "using System.Linq;\n",
    "using System.Reflection;\n",
    "\n",
    "var builder = new KernelBuilder();\n",
    "\n",
    "// Configure AI backend used by the kernel\n",
    "var (useAzureOpenAI, model, azureEndpoint, apiKey, orgId) = Settings.LoadFromFile();\n",
    "\n",
    "if (useAzureOpenAI)\n",
    "    builder.WithAzureTextCompletionService(model, azureEndpoint, apiKey);\n",
    "else\n",
    "    builder.WithOpenAITextCompletionService(model, apiKey, orgId);\n",
    "\n",
    "var kernel = builder.Build();"
   ]
  },
  {
   "attachments": {},
   "cell_type": "markdown",
   "metadata": {},
   "source": [
    "Having the planner at our disposal allows us to devise a plan for tackling a user's request and subsequently execute the plan to obtain the desired outcome. The following code demonstrates how we employ the planner to solve a complex math problem, one that proves challenging for an LLM (Large Language Model) to handle independently due to its multi-step nature and the presence of numerical values."
   ]
  },
  {
   "cell_type": "code",
   "execution_count": 30,
   "metadata": {
    "dotnet_interactive": {
     "language": "csharp"
    },
    "polyglot_notebook": {
     "kernelName": "csharp"
    }
   },
   "outputs": [],
   "source": [
    "// Load native skill into the kernel registry, sharing its functions with prompt templates\n",
    "var planner = new SequentialPlanner(kernel);\n"
   ]
  },
  {
   "attachments": {},
   "cell_type": "markdown",
   "metadata": {},
   "source": [
    "## Loading Available Skills"
   ]
  },
  {
   "cell_type": "code",
   "execution_count": 31,
   "metadata": {
    "dotnet_interactive": {
     "language": "csharp"
    },
    "polyglot_notebook": {
     "kernelName": "csharp"
    }
   },
   "outputs": [],
   "source": [
    "var skillsDirectory = Path.Combine(System.IO.Directory.GetCurrentDirectory(), \"skills\");\n",
    "kernel.ImportSemanticSkillFromDirectory(skillsDirectory, \"CodingSkill\");\n",
    "kernel.ImportSemanticSkillFromDirectory(skillsDirectory, \"FunSkill\");"
   ]
  },
  {
   "attachments": {},
   "cell_type": "markdown",
   "metadata": {},
   "source": [
    "## Convert User Ask to a Plan"
   ]
  },
  {
   "cell_type": "code",
   "execution_count": 35,
   "metadata": {
    "dotnet_interactive": {
     "language": "csharp"
    },
    "polyglot_notebook": {
     "kernelName": "csharp"
    }
   },
   "outputs": [
    {
     "ename": "Error",
     "evalue": "Microsoft.SemanticKernel.Planning.PlanningException: Create plan error: Unable to create plan\n ---> Microsoft.SemanticKernel.Planning.PlanningException: Invalid plan: Failed to find function 'Entity' in skill 'Entity'.\n   at Microsoft.SemanticKernel.Planning.Sequential.SequentialPlanParser.ToPlanFromXml(String xmlString, String goal, SKContext context, Boolean allowMissingFunctions)\n   at Microsoft.SemanticKernel.Planning.SequentialPlanner.CreatePlanAsync(String goal)\n   --- End of inner exception stack trace ---\n   at Microsoft.SemanticKernel.Planning.SequentialPlanner.CreatePlanAsync(String goal)\n   at Submission#42.<<Initialize>>d__0.MoveNext()\n--- End of stack trace from previous location ---\n   at Microsoft.CodeAnalysis.Scripting.ScriptExecutionState.RunSubmissionsAsync[TResult](ImmutableArray`1 precedingExecutors, Func`2 currentExecutor, StrongBox`1 exceptionHolderOpt, Func`2 catchExceptionOpt, CancellationToken cancellationToken)",
     "output_type": "error",
     "traceback": [
      "Microsoft.SemanticKernel.Planning.PlanningException: Create plan error: Unable to create plan\n",
      " ---> Microsoft.SemanticKernel.Planning.PlanningException: Invalid plan: Failed to find function 'Entity' in skill 'Entity'.\n",
      "   at Microsoft.SemanticKernel.Planning.Sequential.SequentialPlanParser.ToPlanFromXml(String xmlString, String goal, SKContext context, Boolean allowMissingFunctions)\n",
      "   at Microsoft.SemanticKernel.Planning.SequentialPlanner.CreatePlanAsync(String goal)\n",
      "   --- End of inner exception stack trace ---\n",
      "   at Microsoft.SemanticKernel.Planning.SequentialPlanner.CreatePlanAsync(String goal)\n",
      "   at Submission#42.<<Initialize>>d__0.MoveNext()\n",
      "--- End of stack trace from previous location ---\n",
      "   at Microsoft.CodeAnalysis.Scripting.ScriptExecutionState.RunSubmissionsAsync[TResult](ImmutableArray`1 precedingExecutors, Func`2 currentExecutor, StrongBox`1 exceptionHolderOpt, Func`2 catchExceptionOpt, CancellationToken cancellationToken)"
     ]
    }
   ],
   "source": [
    "var ask = \" write a pragraph about texas, and use the last sentence as starter of a joke  \";\n",
    "var originalPlan = await planner.CreatePlanAsync(ask);\n",
    "\n",
    "Console.WriteLine(\"Original plan:\\n\");\n",
    "Console.WriteLine(JsonSerializer.Serialize(originalPlan, new JsonSerializerOptions { WriteIndented = true }));"
   ]
  },
  {
   "attachments": {},
   "cell_type": "markdown",
   "metadata": {},
   "source": [
    "## Execute the Plan"
   ]
  },
  {
   "cell_type": "code",
   "execution_count": 27,
   "metadata": {
    "dotnet_interactive": {
     "language": "csharp"
    },
    "polyglot_notebook": {
     "kernelName": "csharp"
    }
   },
   "outputs": [
    {
     "name": "stdout",
     "output_type": "stream",
     "text": [
      "Original Plan results:\n",
      "\n",
      "in the format of \"dd/mm/yyyy\"\n",
      "def printDate(date):\n",
      "    #Split the date into day, month and year\n",
      "    day, month, year = date.split('/')\n",
      "    #Print the date in the required format\n",
      "    print(f\"{day}/{month}/{year}\")\n",
      "#Done\n"
     ]
    }
   ],
   "source": [
    "var originalPlanResult = await originalPlan.InvokeAsync();\n",
    "\n",
    "Console.WriteLine(\"Original Plan results:\\n\");\n",
    "Console.WriteLine(originalPlanResult.Result);"
   ]
  },
  {
   "cell_type": "code",
   "execution_count": 13,
   "metadata": {
    "dotnet_interactive": {
     "language": "csharp"
    },
    "polyglot_notebook": {
     "kernelName": "csharp"
    }
   },
   "outputs": [
    {
     "ename": "Error",
     "evalue": "(1,43): error CS0103: The name 'newPlan' does not exist in the current context",
     "output_type": "error",
     "traceback": [
      "(1,43): error CS0103: The name 'newPlan' does not exist in the current context"
     ]
    }
   ],
   "source": [
    "var newPlanResult = await kernel.RunAsync(newPlan);\n",
    "Console.WriteLine(\"New Plan results:\\n\");\n",
    "Console.WriteLine(newPlanResult.Result);"
   ]
  }
 ],
 "metadata": {
  "kernelspec": {
   "display_name": ".NET (C#)",
   "language": "C#",
   "name": ".net-csharp"
  },
  "language_info": {
   "name": "polyglot-notebook"
  },
  "polyglot_notebook": {
   "kernelInfo": {
    "defaultKernelName": "csharp",
    "items": [
     {
      "aliases": [],
      "languageName": "csharp",
      "name": "csharp"
     }
    ]
   }
  }
 },
 "nbformat": 4,
 "nbformat_minor": 2
}
